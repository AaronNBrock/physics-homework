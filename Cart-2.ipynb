{
 "cells": [
  {
   "cell_type": "markdown",
   "metadata": {
    "deletable": true,
    "editable": true,
    "nbpresent": {
     "id": "46d8b1f0-ef45-450c-aa87-73f1aae60384"
    }
   },
   "source": [
    "# Aaron's Homework"
   ]
  },
  {
   "cell_type": "markdown",
   "metadata": {
    "deletable": true,
    "editable": true,
    "nbpresent": {
     "id": "9c65a1a9-1b9a-4da4-9602-b4286b76b404"
    }
   },
   "source": [
    "* <strong>Ch 21:</strong> 43 44 47 49 51 54 63 65 66 67 76 81 83 86\n",
    "* <strong>Ch 22:</strong> 52 53 61 63 76 83\n",
    "* <strong>Ch 23:</strong> 53 40 55 57 59 62 67"
   ]
  },
  {
   "cell_type": "code",
   "execution_count": 1,
   "metadata": {
    "collapsed": false,
    "deletable": true,
    "editable": true
   },
   "outputs": [],
   "source": [
    "# Import\n",
    "import sympy\n",
    "from sympy import *\n",
    "from sympy.physics.units import *\n",
    "import mpmath"
   ]
  },
  {
   "cell_type": "code",
   "execution_count": 2,
   "metadata": {
    "collapsed": false,
    "deletable": true,
    "editable": true
   },
   "outputs": [],
   "source": [
    "# Init\n",
    "init_printing()"
   ]
  },
  {
   "cell_type": "markdown",
   "metadata": {
    "deletable": true,
    "editable": true
   },
   "source": [
    "## Chapter 21\n",
    "\n",
    "43 44 47 49 51 54 63 65 66 67 76 81 83 86"
   ]
  },
  {
   "cell_type": "markdown",
   "metadata": {
    "deletable": true,
    "editable": true,
    "nbpresent": {
     "id": "6e9b4a4f-38f8-42c7-92f6-3ee55668ed67"
    }
   },
   "source": [
    "### 43\n",
    "Q) What are the two properties that a test charge must have?\n",
    "\n",
    "A) Small & Positive"
   ]
  },
  {
   "cell_type": "markdown",
   "metadata": {
    "editable": true
   },
   "source": [
    "### 44\n",
    "Q) How is the direction of an electric field defined?\n",
    "\n",
    "A) The direction of the electric field is the direction of the force on a tiny, positive test charge"
   ]
  },
  {
   "cell_type": "markdown",
   "metadata": {
    "editable": true
   },
   "source": [
    "### 47\n",
    "Q) Draw some of the electric field lines between eachof the following.\n",
    "\n",
    "a. two like charges of equal magnitude\n",
    "\n",
    "b. two unlike charges of equal magnitude\n",
    "\n",
    "c. a positive charge and a negative charge having twice the magnitude of the positive charge\n",
    "\n",
    "d. two oppositely charged parallel plates\n",
    "\n",
    "A) #ToDo"
   ]
  },
  {
   "cell_type": "markdown",
   "metadata": {
    "editable": true
   },
   "source": [
    "### 49\n",
    "Q) What SI unit is used to measure electric potential energy? What SI unit is used to measure electric potential difference?\n",
    "\n",
    "A) Joule.  Volt (Joule/Coulomb). "
   ]
  },
  {
   "cell_type": "markdown",
   "metadata": {
    "editable": true
   },
   "source": [
    "### 51\n",
    "Q) Why does a charged object lose its charge when it is touched to the ground?\n",
    "\n",
    "A) The charged is spread out across earths surface making it effectively nonexistent."
   ]
  },
  {
   "cell_type": "markdown",
   "metadata": {
    "editable": true
   },
   "source": [
    "### 54\n",
    "Q) Delicate parts in electronic equipment, such as those pictured in <strong>Figure 21-16</strong>, are contained within a metal box inside a plastic case. Why?\n",
    "\n",
    "![fig-21-16](img/fig-21-16.png)\n",
    "\n",
    "A) To avoid static electricity."
   ]
  },
  {
   "cell_type": "markdown",
   "metadata": {
    "editable": true
   },
   "source": [
    "### 63\n",
    "Q) José and Sue are standing on an insulating platform and holding hands when they are given a charge, as in <strong>Figure 21-18</strong>. José is larger than Sue. Who has the larger amount of charge, or do they both have the same amount?\n",
    "\n",
    "![fig-21-18](img/fig-21-18.png)\n",
    "\n",
    "A) José, he has a larger surface area."
   ]
  },
  {
   "cell_type": "markdown",
   "metadata": {
    "editable": true
   },
   "source": [
    "### 65\n",
    "Q) How can you store different amounts of charge in a capacitor?\n",
    "\n",
    "A) By adding and removing charge?"
   ]
  },
  {
   "cell_type": "markdown",
   "metadata": {
    "editable": true
   },
   "source": [
    "### 66\n",
    "Q) What charge exists on a test charge that experiences a force of 1.410\u00018 N at a point where the electric field intensity is $ 5.0 \\times 10^{-4} N/C$? \n",
    "\n",
    "\n",
    "A) "
   ]
  },
  {
   "cell_type": "markdown",
   "metadata": {
    "editable": true
   },
   "source": [
    "### 67\n",
    "Q) A positive charge of $1.0 \\times 10^{-5} C$, shown in <strong>Figure 21-19</strong>, experiences a force of 0.30 N when it is located at a certain point. What is the electric field intensity at that point? \n",
    "\n",
    "![fig-21-19](img/fig-21-19.png)\n",
    "\n",
    "A) "
   ]
  },
  {
   "cell_type": "markdown",
   "metadata": {
    "editable": true
   },
   "source": [
    "### 76\n",
    "Q) If 120 J of work is performed to move 2.4 C of charge from the positive plate to the negative plate shown in <strong>Figure 21-21</strong>, what potential difference exists between the plates\n",
    "\n",
    "![fig-21-21](img/fig-21-21.png)\n",
    "\n",
    "A) "
   ]
  },
  {
   "cell_type": "markdown",
   "metadata": {
    "editable": true
   },
   "source": [
    "### 81\n",
    "Q) A voltmeter indicates that the electric potential difference between two plates is 70.0 V. The plates are 0.020 m apart. What electric field intensity exists between them? \n",
    "\n",
    "A) "
   ]
  },
  {
   "cell_type": "markdown",
   "metadata": {
    "editable": true
   },
   "source": [
    "### 83\n",
    "Q) What electric potential difference exists across a $5.4-\\mu F$ capacitor that has a charge of $8.1\\times10^{-4} C$?\n",
    "\n",
    "\n",
    "A) "
   ]
  },
  {
   "cell_type": "markdown",
   "metadata": {
    "editable": true
   },
   "source": [
    "### 86\n",
    "Q) A force of 0.065 N is required to move a charge of 37 $\\mu$C a distance of 25 cm in a uniform electric field, as in <strong>Figure 21-23</strong>. What is the size of the electric potential difference between the two points? \n",
    "\n",
    "![fig-21-23](img/fig-21-23.png)\n",
    "\n",
    "A) "
   ]
  },
  {
   "cell_type": "markdown",
   "metadata": {
    "editable": true
   },
   "source": [
    "## Chapter 22\n",
    "\n",
    "52 53 61 63 76 83"
   ]
  },
  {
   "cell_type": "markdown",
   "metadata": {},
   "source": [
    "$ I = \\frac{V}{Resistance} $\n",
    "\n",
    "$ P = \\frac{I^2}{Resistance} $\n",
    "\n",
    "$ Power = V * I$\n",
    "\n",
    "$ Energy = P * t$"
   ]
  },
  {
   "cell_type": "markdown",
   "metadata": {
    "editable": true
   },
   "source": [
    "### 52\n",
    "Q) Explain why a cow experiences a mild shock when it touches an electric fence. \n",
    "\n",
    "A) Due to being connected to the ground, the electrons travel through the cow to get to the ground."
   ]
  },
  {
   "cell_type": "markdown",
   "metadata": {
    "editable": true
   },
   "source": [
    "### 53\n",
    "Q) Why can birds perch on high-voltage lines without being injured? \n",
    "\n",
    "A) Electrons flow along the path of least resistance, which the bird is not. "
   ]
  },
  {
   "cell_type": "markdown",
   "metadata": {
    "editable": true
   },
   "source": [
    "### 61\n",
    "Q) A motor is connected to a 12-V battery, as shown in <strong>Figure 22-13</strong>.\n",
    "\n",
    "![fig-22-13](img/fig-22-13.png)\n",
    "\n",
    "a. How much power is delivered to the motor?"
   ]
  },
  {
   "cell_type": "code",
   "execution_count": 3,
   "metadata": {
    "collapsed": false
   },
   "outputs": [
    {
     "data": {
      "image/png": "[encoded data removed]",
      "text/latex": [
       "$$\\frac{18.0 m^{2}}{s^{3}} kg$$"
      ],
      "text/plain": [
       "         2\n",
       "18.0⋅kg⋅m \n",
       "──────────\n",
       "     3    \n",
       "    s     "
      ]
     },
     "execution_count": 3,
     "metadata": {},
     "output_type": "execute_result"
    }
   ],
   "source": [
    "power = 1.5 * ampere * 12 * volt\n",
    "power"
   ]
  },
  {
   "cell_type": "markdown",
   "metadata": {},
   "source": [
    "b. How much energy is converted if the motor runs for 15 min?"
   ]
  },
  {
   "cell_type": "code",
   "execution_count": 4,
   "metadata": {
    "collapsed": false
   },
   "outputs": [
    {
     "data": {
      "image/png": "[encoded data removed]",
      "text/latex": [
       "$$\\frac{16200.0 m^{2}}{s^{2}} kg$$"
      ],
      "text/plain": [
       "            2\n",
       "16200.0⋅kg⋅m \n",
       "─────────────\n",
       "       2     \n",
       "      s      "
      ]
     },
     "execution_count": 4,
     "metadata": {},
     "output_type": "execute_result"
    }
   ],
   "source": [
    "energy = power * 15 * minutes\n",
    "energy"
   ]
  },
  {
   "cell_type": "markdown",
   "metadata": {
    "editable": true
   },
   "source": [
    "### 63\n",
    "Q) Refer to <strong>Figure 22-15</strong> to answer the following questions.\n",
    "\n",
    "![fig-22-15](img/fig-22-15.png)\n",
    "\n",
    "a. What should the ammeter reading be?\n",
    "\n",
    "b. What should the voltmeter reading be?\n",
    "\n",
    "c. How much power is delivered to the resistor?\n",
    "\n",
    "d. How much energy is delivered to the resistor per hour? "
   ]
  },
  {
   "cell_type": "markdown",
   "metadata": {
    "editable": true
   },
   "source": [
    "### 76\n",
    "Q) Draw a series circuit diagram to include a 16-$\\Omega$ resistor, a battery, and an ammeter that reads 1.75 A. Indicate the positive terminal and the voltage of the battery, the positive terminal of the ammeter, and the direction of conventional current.\n",
    "\n",
    "A) #ToDo"
   ]
  },
  {
   "cell_type": "markdown",
   "metadata": {
    "editable": true
   },
   "source": [
    "### 83\n",
    "Q) What is the maximum current allowed in a 5.0-W, 220-$\\Omega$ resistor? "
   ]
  },
  {
   "cell_type": "code",
   "execution_count": 5,
   "metadata": {
    "collapsed": false
   },
   "outputs": [
    {
     "data": {
      "image/png": "[encoded data removed]",
      "text/latex": [
       "$$0.15 A$$"
      ],
      "text/plain": [
       "0.15⋅A"
      ]
     },
     "execution_count": 5,
     "metadata": {},
     "output_type": "execute_result"
    }
   ],
   "source": [
    "I = Symbol('I')\n",
    "\n",
    "solve(Eq(5.0 * watt, I**2 * 220 * ohm), I)[1].evalf(n=2)"
   ]
  },
  {
   "cell_type": "markdown",
   "metadata": {
    "editable": true
   },
   "source": [
    "## Chapter 23\n",
    "\n",
    "53 40 55 57 59 62 67"
   ]
  },
  {
   "cell_type": "markdown",
   "metadata": {
    "editable": true
   },
   "source": [
    "### 40\n",
    "Q) Why is household wiring constructed in parallel instead of in series?\n",
    "\n",
    "A) So if one appliance breaks it doesn't take down the whole houses electricity."
   ]
  },
  {
   "cell_type": "markdown",
   "metadata": {
    "editable": true
   },
   "source": [
    "### 53\n",
    "Q) If you have a 6-V battery and many 1.5-V bulbs, how could you connect them so that they light but do not have more than 1.5 V across each bulb? \n",
    "\n",
    "A) How many bulbs is 'many'?  If there were 4, you could connect them in a series."
   ]
  },
  {
   "cell_type": "markdown",
   "metadata": {
    "editable": true
   },
   "source": [
    "### 55\n",
    "Q) For each of the following, write the form of circuit that applies: series or parallel.\n",
    "\n",
    "a. The current is the same everywhere throughout the entire circuit. <br>\n",
    "Series\n",
    "\n",
    "\n",
    "b. The total resistance is equal to the sum of the individual resistances.<br>\n",
    "Series\n",
    "\n",
    "\n",
    "c. The voltage drop across each resistor in the circuit is the same.<br>\n",
    "Parallel\n",
    "\n",
    "\n",
    "d. The voltage drop in the circuit is proportional to the resistance.<br>\n",
    "Series\n",
    "\n",
    "\n",
    "e. Adding a resistor to the circuit decreases the total resistance.<br>\n",
    "Parallel\n",
    "\n",
    "\n",
    "f. Adding a resistor to the circuit increases the total resistance.<br>\n",
    "Series\n",
    "\n",
    "\n",
    "g. If the current through one resistor in the circuit goes to zero, there is no current in the entire circuit.<br>\n",
    "Series\n",
    "\n",
    "\n",
    "h. If the current through one resistor in the circuit goes to zero, the current through all other resistors remains the same.<br>\n",
    "Parallel\n",
    "\n",
    "\n",
    "i. This form is suitable for house wiring. <br>\n",
    "Parallel"
   ]
  },
  {
   "cell_type": "markdown",
   "metadata": {
    "editable": true
   },
   "source": [
    "### 57\n",
    "Q) Ammeter 1 in <strong>Figure 23-14</strong> reads 0.20 A.\n",
    "\n",
    "![fig-23-14](img/fig-23-14.png)\n",
    "\n",
    "a. What should ammeter 2 indicate? <br>\n",
    "0.20 A\n",
    "\n",
    "b. What should ammeter 3 indicate? <br>\n",
    "0.20 A"
   ]
  },
  {
   "cell_type": "markdown",
   "metadata": {
    "editable": true
   },
   "source": [
    "### 59\n",
    "Q) Calculate the equivalent resistance of these parallel connected resistors: 680 $\\Omega$, 1.1 k $\\Omega$, and 10.2 k $\\Omega$. "
   ]
  },
  {
   "cell_type": "code",
   "execution_count": 6,
   "metadata": {
    "collapsed": false
   },
   "outputs": [
    {
     "data": {
      "image/png": "[encoded data removed]",
      "text/latex": [
       "$$\\frac{4.0 \\cdot 10^{2} A^{2}}{kg m^{2}} s^{3}$$"
      ],
      "text/plain": [
       "        2  3\n",
       "4.0e+2⋅A ⋅s \n",
       "────────────\n",
       "       2    \n",
       "   kg⋅m     "
      ]
     },
     "execution_count": 6,
     "metadata": {},
     "output_type": "execute_result"
    }
   ],
   "source": [
    "(1/(1/680 * ohm + 1/1100 * ohm + 1/10200 * ohm)).evalf(n=2)"
   ]
  },
  {
   "cell_type": "markdown",
   "metadata": {
    "editable": true
   },
   "source": [
    "### 62\n",
    "Q) Ammeter 1 in <strong>Figure 23-14</strong> reads 0.20 A.\n",
    "\n",
    "![fig-23-14](img/fig-23-14.png)\n",
    "\n",
    "a. What is the total resistance of the circuit?"
   ]
  },
  {
   "cell_type": "code",
   "execution_count": 7,
   "metadata": {
    "collapsed": false
   },
   "outputs": [
    {
     "data": {
      "image/png": "[encoded data removed]",
      "text/latex": [
       "$$\\frac{37 kg m^{2}}{A^{2} s^{3}}$$"
      ],
      "text/plain": [
       "       2\n",
       "37⋅kg⋅m \n",
       "────────\n",
       "  2  3  \n",
       " A ⋅s   "
      ]
     },
     "execution_count": 7,
     "metadata": {},
     "output_type": "execute_result"
    }
   ],
   "source": [
    "resistance = 15 * ohm + 22 * ohm\n",
    "resistance"
   ]
  },
  {
   "cell_type": "markdown",
   "metadata": {},
   "source": [
    "b. What is the battery voltage?"
   ]
  },
  {
   "cell_type": "code",
   "execution_count": 8,
   "metadata": {
    "collapsed": false
   },
   "outputs": [
    {
     "data": {
      "image/png": "[encoded data removed]",
      "text/latex": [
       "$$\\frac{7.4 kg m^{2}}{A s^{3}}$$"
      ],
      "text/plain": [
       "        2\n",
       "7.4⋅kg⋅m \n",
       "─────────\n",
       "      3  \n",
       "   A⋅s   "
      ]
     },
     "execution_count": 8,
     "metadata": {},
     "output_type": "execute_result"
    }
   ],
   "source": [
    "voltage = resistance * 0.20 * ampere\n",
    "voltage"
   ]
  },
  {
   "cell_type": "markdown",
   "metadata": {},
   "source": [
    "c. How much power is delivered to the 22-$\\Omega$ resistor?"
   ]
  },
  {
   "cell_type": "code",
   "execution_count": 9,
   "metadata": {
    "collapsed": false
   },
   "outputs": [
    {
     "data": {
      "image/png": "[encoded data removed]",
      "text/latex": [
       "$$\\frac{0.88 m^{2}}{s^{3}} kg$$"
      ],
      "text/plain": [
       "         2\n",
       "0.88⋅kg⋅m \n",
       "──────────\n",
       "     3    \n",
       "    s     "
      ]
     },
     "execution_count": 9,
     "metadata": {},
     "output_type": "execute_result"
    }
   ],
   "source": [
    "# P = I^2 R\n",
    "(0.20 * ampere)**2 * (22 * ohm)"
   ]
  },
  {
   "cell_type": "markdown",
   "metadata": {},
   "source": [
    "d. How much power is supplied by the battery?"
   ]
  },
  {
   "cell_type": "code",
   "execution_count": 10,
   "metadata": {
    "collapsed": false
   },
   "outputs": [
    {
     "data": {
      "image/png": "[encoded data removed]",
      "text/latex": [
       "$$\\frac{1.48 m^{2}}{s^{3}} kg$$"
      ],
      "text/plain": [
       "         2\n",
       "1.48⋅kg⋅m \n",
       "──────────\n",
       "     3    \n",
       "    s     "
      ]
     },
     "execution_count": 10,
     "metadata": {},
     "output_type": "execute_result"
    }
   ],
   "source": [
    "# P = IV\n",
    "(0.20 * ampere) * voltage"
   ]
  },
  {
   "cell_type": "markdown",
   "metadata": {
    "editable": true
   },
   "source": [
    "### 67\n",
    "Q) For <strong>Figure 23-18</strong>, the battery develops 110 V.\n",
    "\n",
    "![fig-20-14](img/fig-23-18.png)\n",
    "\n",
    "a. Which resistor is the hottest? <br>\n",
    "10.0 $\\Omega$\n",
    "\n",
    "b. Which resistor is the coolest? <br>\n",
    "50.0 $\\Omega$\n",
    "\n",
    "c. What will ammeter 1 read?"
   ]
  },
  {
   "cell_type": "code",
   "execution_count": 11,
   "metadata": {
    "collapsed": false
   },
   "outputs": [
    {
     "data": {
      "image/png": "[encoded data removed]",
      "text/latex": [
       "$$\\frac{18.7 kg^{2} m^{4}}{A^{3} s^{6}}$$"
      ],
      "text/plain": [
       "       2  4\n",
       "18.7⋅kg ⋅m \n",
       "───────────\n",
       "    3  6   \n",
       "   A ⋅s    "
      ]
     },
     "execution_count": 11,
     "metadata": {},
     "output_type": "execute_result"
    }
   ],
   "source": [
    "resistance = 1/(1/20 * ohm + 1/50 * ohm + 1/10 * ohm)\n",
    "voltage = 110 * volts\n",
    "\n",
    "# I = V/R\n",
    "voltage/resistance"
   ]
  },
  {
   "cell_type": "markdown",
   "metadata": {},
   "source": [
    "d. What will ammeter 2 read?"
   ]
  },
  {
   "cell_type": "code",
   "execution_count": 14,
   "metadata": {
    "collapsed": false
   },
   "outputs": [
    {
     "data": {
      "image/png": "[encoded data removed]",
      "text/latex": [
       "$$5.5 A$$"
      ],
      "text/plain": [
       "5.5⋅A"
      ]
     },
     "execution_count": 14,
     "metadata": {},
     "output_type": "execute_result"
    }
   ],
   "source": [
    "resistance = 20.0 * ohm\n",
    "\n",
    "# I = V/R\n",
    "voltage/resistance"
   ]
  },
  {
   "cell_type": "markdown",
   "metadata": {},
   "source": [
    "e. What will ammeter 3 read?"
   ]
  },
  {
   "cell_type": "code",
   "execution_count": 15,
   "metadata": {
    "collapsed": false
   },
   "outputs": [
    {
     "data": {
      "image/png": "[encoded data removed]",
      "text/latex": [
       "$$2.2 A$$"
      ],
      "text/plain": [
       "2.2⋅A"
      ]
     },
     "execution_count": 15,
     "metadata": {},
     "output_type": "execute_result"
    }
   ],
   "source": [
    "resistance = 50.0 * ohm\n",
    "\n",
    "# I = V/R\n",
    "voltage/resistance"
   ]
  },
  {
   "cell_type": "markdown",
   "metadata": {},
   "source": [
    "f. What will ammeter 4 read? "
   ]
  },
  {
   "cell_type": "code",
   "execution_count": 16,
   "metadata": {
    "collapsed": false
   },
   "outputs": [
    {
     "data": {
      "image/png": "[encoded data removed]",
      "text/latex": [
       "$$11.0 A$$"
      ],
      "text/plain": [
       "11.0⋅A"
      ]
     },
     "execution_count": 16,
     "metadata": {},
     "output_type": "execute_result"
    }
   ],
   "source": [
    "resistance = 10.0 * ohm\n",
    "\n",
    "# I = V/R\n",
    "voltage/resistance"
   ]
  },
  {
   "cell_type": "code",
   "execution_count": null,
   "metadata": {
    "collapsed": true
   },
   "outputs": [],
   "source": []
  }
 ],
 "metadata": {
  "anaconda-cloud": {},
  "kernelspec": {
   "display_name": "Python [default]",
   "language": "python",
   "name": "python3"
  },
  "language_info": {
   "codemirror_mode": {
    "name": "ipython",
    "version": 3
   },
   "file_extension": ".py",
   "mimetype": "text/x-python",
   "name": "python",
   "nbconvert_exporter": "python",
   "pygments_lexer": "ipython3",
   "version": "3.5.2"
  }
 },
 "nbformat": 4,
 "nbformat_minor": 2
}
