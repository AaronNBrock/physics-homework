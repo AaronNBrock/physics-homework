{
 "cells": [
  {
   "cell_type": "markdown",
   "metadata": {
    "deletable": true,
    "editable": true,
    "nbpresent": {
     "id": "46d8b1f0-ef45-450c-aa87-73f1aae60384"
    }
   },
   "source": [
    "# Aaron's Homework"
   ]
  },
  {
   "cell_type": "markdown",
   "metadata": {
    "deletable": true,
    "editable": true,
    "nbpresent": {
     "id": "9c65a1a9-1b9a-4da4-9602-b4286b76b404"
    }
   },
   "source": [
    "* Questions: 25, 27,29, 30, 33, 35, 36, 37\n",
    "* Solve: 42, 43, 44, 47, 48, 49, 60 and Bonus 61"
   ]
  },
  {
   "cell_type": "markdown",
   "metadata": {
    "deletable": true,
    "editable": true
   },
   "source": [
    "## Questions"
   ]
  },
  {
   "cell_type": "markdown",
   "metadata": {
    "deletable": true,
    "editable": true,
    "nbpresent": {
     "id": "6e9b4a4f-38f8-42c7-92f6-3ee55668ed67"
    }
   },
   "source": [
    "### 25\n",
    "Q) What property makes metal a good conductor and rubber a good insulator?\n",
    "\n",
    "A) It's easy for electrons to move through metal & hard for electrons to move through rubber"
   ]
  },
  {
   "cell_type": "markdown",
   "metadata": {
    "deletable": true,
    "editable": true
   },
   "source": [
    "### 27\n",
    "Q) If you wipe a compact disc with a clean cloth, why does the CD then attract dust?\n",
    "\n",
    "A) The cloth changes the amount of electrons in the CD which makes it attract other objects such as dust."
   ]
  },
  {
   "cell_type": "markdown",
   "metadata": {
    "deletable": true,
    "editable": true
   },
   "source": [
    "### 29\n",
    "Q) How does the distance between two charges impact the force between them? If the distance is decreased while the charges remain the same, what happens to the force?\n",
    "\n",
    "A) The force and distance are inversely proportional.  So, if the the distance is decreased with a constant charge, the force increases."
   ]
  },
  {
   "cell_type": "markdown",
   "metadata": {
    "deletable": true,
    "editable": true
   },
   "source": [
    "### 30\n",
    "Q) Explain how to charge a conductor negatively if you have only a positively charged rod.\n",
    "\n",
    "A) Put the rod close to, but not touching the conductor while the conductor is grounded, then remove the ground & the rod."
   ]
  },
  {
   "cell_type": "markdown",
   "metadata": {
    "deletable": true,
    "editable": true
   },
   "source": [
    "### 33\n",
    "Q) A charged rod is brought near a pile of tiny plastic spheres. Some of the spheres are attracted to the rod, but as soon as they touch the rod, they are flung off in different directions. Explain.\n",
    "\n",
    "A) When the spheres touch the rod they become positively changed and repel each other."
   ]
  },
  {
   "cell_type": "markdown",
   "metadata": {
    "deletable": true,
    "editable": true
   },
   "source": [
    "### 35\n",
    "Q) Explain what happens to the leaves of a positively charged electroscope when rods with the following charges are brought close to, but not touching, the electroscope.\n",
    "\n",
    "\n",
    "Positive) It pulls the electrons away from the leaves causing the leaves to separate farther apart.\n",
    "\n",
    "Negative) It pushes the electrons toward the leaves causing them to become more neutral and intern causing them to move closer together."
   ]
  },
  {
   "cell_type": "markdown",
   "metadata": {
    "deletable": true,
    "editable": true
   },
   "source": [
    "### 36\n",
    "Q) As shown in <strong>Figure 20-13</strong>, Coulomb’s law and Newton’s law of universal gravitation appear to be similar. In what ways are the electric and gravitational forces similar? How are they different?\n",
    "\n",
    "Similarities) They are both inverse square laws.\n",
    "\n",
    "Differences) The constants have very different magnitudes."
   ]
  },
  {
   "cell_type": "markdown",
   "metadata": {
    "deletable": true,
    "editable": true
   },
   "source": [
    "### 37\n",
    "Q) The constant, K, in Coulomb’s equation is much larger than the constant, G, in the universal gravitation equation. Of what significance is this?\n",
    "\n",
    "A) Electric force is stronger then the gravitational force."
   ]
  },
  {
   "cell_type": "markdown",
   "metadata": {
    "deletable": true,
    "editable": true
   },
   "source": [
    "## Solve\n",
    "\n",
    " * Solve: 42, 43, 44, 47, 48, 49, 60 and Bonus 61\n",
    "\n",
    "Coulomb's Law: $F = K \\frac{q_A q_b}{r^2}$"
   ]
  },
  {
   "cell_type": "code",
   "execution_count": 1,
   "metadata": {
    "collapsed": false,
    "deletable": true,
    "editable": true
   },
   "outputs": [],
   "source": [
    "# Import\n",
    "from sympy import *\n",
    "from sympy.physics.units import *\n",
    "import mpmath"
   ]
  },
  {
   "cell_type": "code",
   "execution_count": 2,
   "metadata": {
    "collapsed": false,
    "deletable": true,
    "editable": true
   },
   "outputs": [],
   "source": [
    "# Init\n",
    "init_printing()\n",
    "F, K, qA, qB, r = symbols('F K q_A q_B r')\n",
    "K = 9.0E9 * newton * meter**2/coulomb**2\n",
    "coulombs_law = Eq(F, K*qA*qB/r**2)"
   ]
  },
  {
   "cell_type": "markdown",
   "metadata": {
    "deletable": true,
    "editable": true
   },
   "source": [
    "### 42\n",
    "\n",
    "Q) Two charges, $q_A$ and $q_B$, are separated by a distance, $r$, and exert a force, $F$, on each other. Analyze Coulomb’s law and identify what new force would exist under the following conditions.\n",
    "\n",
    "a. $q_A$ is doubled -> $\\frac{1}{2}F$\n",
    "\n",
    "b. $q_A$ and $q_B$ are cut in half -> $4F$\n",
    "\n",
    "c. $r$ is tripled -> $9F$\n",
    "\n",
    "d. $r$ is cut in half -> $\\frac{1}{4}F$\n",
    "\n",
    "e. $q_A$ is tripled and $r$ is doubled -> $\\frac{4}{3}F$"
   ]
  },
  {
   "cell_type": "markdown",
   "metadata": {
    "deletable": true,
    "editable": true
   },
   "source": [
    "### 43\n",
    "\n",
    "Q) A strong lightning bolt transfers about\n",
    "25 C to Earth. How many electrons are transferred?"
   ]
  },
  {
   "cell_type": "code",
   "execution_count": 3,
   "metadata": {
    "collapsed": false,
    "deletable": true,
    "editable": true
   },
   "outputs": [
    {
     "data": {
      "image/png": "[encoded data removed]",
      "text/latex": [
       "$$1.56 \\cdot 10^{20}$$"
      ],
      "text/plain": [
       "1.56000000000000e+20"
      ]
     },
     "execution_count": 3,
     "metadata": {},
     "output_type": "execute_result"
    }
   ],
   "source": [
    "25 * coulomb * ((6.24E18)/(1*coulomb))"
   ]
  },
  {
   "cell_type": "markdown",
   "metadata": {
    "deletable": true,
    "editable": true
   },
   "source": [
    "### 44\n",
    "\n",
    "Q) Two electrons in an atom are separated by $1.5 \\times 10^{-10} m$, the typical size of an atom. What is the electric force between them?"
   ]
  },
  {
   "cell_type": "code",
   "execution_count": 4,
   "metadata": {
    "collapsed": false,
    "deletable": true,
    "editable": true
   },
   "outputs": [
    {
     "data": {
      "image/png": "[encoded data removed]",
      "text/latex": [
       "$$\\frac{kg m}{s^{2}} 1.0 \\cdot 10^{-8}$$"
      ],
      "text/plain": [
       "1.0e-8⋅kg⋅m\n",
       "───────────\n",
       "      2    \n",
       "     s     "
      ]
     },
     "execution_count": 4,
     "metadata": {},
     "output_type": "execute_result"
    }
   ],
   "source": [
    "solve(coulombs_law.subs([\n",
    "    (qA, (1*coulomb)/(6.24E18)), # Set q_A\n",
    "    (qB, (1*coulomb)/(6.24E18)), # Set q_B\n",
    "    (r, 1.5E-10 * meters) # Set r\n",
    "]), F)[0].evalf(n=2) # Set sig figs"
   ]
  },
  {
   "cell_type": "markdown",
   "metadata": {
    "deletable": true,
    "editable": true
   },
   "source": [
    "### 47\n",
    "\n",
    "Q) Two identical positive charges exert a repulsive force of $6.4 \\times 10^{-9} N$ when separated by a distance of $3.8 \\times 10^{-10} m$. Calculate the charge of each.\n"
   ]
  },
  {
   "cell_type": "code",
   "execution_count": 5,
   "metadata": {
    "collapsed": false,
    "deletable": true,
    "editable": true
   },
   "outputs": [
    {
     "data": {
      "image/png": "[encoded data removed]",
      "text/latex": [
       "$$\\left [ - 3.2 \\cdot 10^{-19} A s, \\quad 3.2 \\cdot 10^{-19} A s\\right ]$$"
      ],
      "text/plain": [
       "[-3.2e-19⋅A⋅s, 3.2e-19⋅A⋅s]"
      ]
     },
     "execution_count": 5,
     "metadata": {},
     "output_type": "execute_result"
    }
   ],
   "source": [
    "list(map(lambda x: x.evalf(n=2), # Set sig fig for each\n",
    "         solve(coulombs_law.subs([\n",
    "             (qB, qA), # Set q_B = q_A\n",
    "             (F, 6.4E-9 * newton), # Set F\n",
    "             (r, 3.8E-10 * meters) # Set r\n",
    "         ]), qA))) # Set sig figs"
   ]
  },
  {
   "cell_type": "markdown",
   "metadata": {
    "deletable": true,
    "editable": true
   },
   "source": [
    "### 48\n",
    "\n",
    "Q) A positive charge of $3.0 \\mu C$ is pulled on by two negative charges. As shown in <strong>Figure 20-14</strong>, one negative charge, $2.0 \\mu C$, is 0.050 m to the west, and the other, $4.0 \\mu C$, is 0.030 m to the east. What total force is exerted on the positive charge?\n",
    "\n",
    "![title](img/fig-20-14.png)"
   ]
  },
  {
   "cell_type": "code",
   "execution_count": 6,
   "metadata": {
    "collapsed": false,
    "deletable": true,
    "editable": true
   },
   "outputs": [
    {
     "data": {
      "image/png": "[encoded data removed]",
      "text/latex": [
       "$$\\frac{98.0 kg}{s^{2}} m$$"
      ],
      "text/plain": [
       "98.0⋅kg⋅m\n",
       "─────────\n",
       "     2   \n",
       "    s    "
      ]
     },
     "execution_count": 6,
     "metadata": {},
     "output_type": "execute_result"
    }
   ],
   "source": [
    "solve(Eq(F, (coulombs_law.rhs.subs([\n",
    "    (qB, -2.0 * micro * coulomb),\n",
    "    (r, 0.050 * meter)\n",
    "]) - coulombs_law.rhs.subs([\n",
    "    (qB, -4.0 * micro * coulomb),\n",
    "    (r, 0.030 * meter)\n",
    "])).subs([\n",
    "    (qA, 3.0 * micro * coulomb)\n",
    "])), F)[0].evalf(n=2)"
   ]
  },
  {
   "cell_type": "markdown",
   "metadata": {
    "deletable": true,
    "editable": true
   },
   "source": [
    "### 49\n",
    "\n",
    "Q) <strong>Figure 20-15</strong> shows two positively charged spheres, one with three times the charge of the other. The spheres are 16 cm apart, and the force between them is 0.28 N. What are the charges on the two spheres?\n",
    "![title](img/fig-20-15.png)"
   ]
  },
  {
   "cell_type": "code",
   "execution_count": 7,
   "metadata": {
    "collapsed": false
   },
   "outputs": [
    {
     "data": {
      "image/png": "[encoded data removed]",
      "text/latex": [
       "$$\\left [ - 5.2 \\cdot 10^{-7} A s, \\quad 5.2 \\cdot 10^{-7} A s\\right ]$$"
      ],
      "text/plain": [
       "[-5.2e-7⋅A⋅s, 5.2e-7⋅A⋅s]"
      ]
     },
     "execution_count": 7,
     "metadata": {},
     "output_type": "execute_result"
    }
   ],
   "source": [
    "list(map(lambda x: x.evalf(n=2), # Set sig fig for each\n",
    "         solve(coulombs_law.subs([\n",
    "             (qB, qA*3), # Set q_B = q_A\n",
    "             (F, 0.28 * newton), # Set F\n",
    "             (r, 16 * centi * meters) # Set r\n",
    "         ]), qA)))"
   ]
  },
  {
   "cell_type": "markdown",
   "metadata": {
    "deletable": true,
    "editable": true
   },
   "source": [
    "### 60\n",
    "\n",
    "Q) Three charged spheres are located at the positions shown in <strong>Figure 20-17</strong>. Find the total force on sphere B.\n",
    "\n",
    "![title](img/fig-20-17.png)"
   ]
  },
  {
   "cell_type": "code",
   "execution_count": 8,
   "metadata": {
    "collapsed": false,
    "deletable": true,
    "editable": true
   },
   "outputs": [
    {
     "name": "stdout",
     "output_type": "stream",
     "text": [
      "f_AB=-207.5625*kg*m/s**2\n",
      "d_AB=0\n",
      "\n",
      "f_CB=177.12*kg*m/s**2\n",
      "d_CB=216.869897645844\n"
     ]
    }
   ],
   "source": [
    "f_AB = solve(coulombs_law.subs([\n",
    "    (qA, 4.5 * micro * coulomb), # Set q_A\n",
    "    (qB, -8.2 * micro * coulomb), # Set q_B\n",
    "    (r, 4.0 * centi * meters) # Set r\n",
    "]), F)[0] # Set sig figs\n",
    "\n",
    "\n",
    "d_AB = Mul(0)\n",
    "\n",
    "f_CB = solve(coulombs_law.subs([\n",
    "    (qA, 6.0 * micro * coulomb), # Set q_A (which is actuall C in this case)\n",
    "    (qB, -8.2 * micro * coulomb), # Set q_B\n",
    "    (r, sqrt( -4.0**2 + -3.0**2) * centi * meters) # Set r\n",
    "]), F)[0] # Set sig figs\n",
    "\n",
    "d_CB = atan(-3.0/-4.0) + pi\n",
    "\n",
    "print('f_AB={}\\nd_AB={}\\n\\nf_CB={}\\nd_CB={}'.format(f_AB, mpmath.degrees(d_AB.evalf()), f_CB, mpmath.degrees(d_CB.evalf())))"
   ]
  },
  {
   "cell_type": "code",
   "execution_count": 9,
   "metadata": {
    "collapsed": false
   },
   "outputs": [
    {
     "data": {
      "image/png": "[encoded data removed]",
      "text/latex": [
       "$$\\frac{kg m}{s^{2}} 3.7 \\cdot 10^{2}$$"
      ],
      "text/plain": [
       "3.7e+2⋅kg⋅m\n",
       "───────────\n",
       "      2    \n",
       "     s     "
      ]
     },
     "execution_count": 9,
     "metadata": {},
     "output_type": "execute_result"
    }
   ],
   "source": [
    "x_AB, y_AB = (f_AB * cos(d_AB)), (f_AB * sin(d_AB))\n",
    "x_CB, y_CB = (f_CB * cos(d_CB)), (f_CB * sin(d_CB))\n",
    "\n",
    "x, y = x_AB+x_CB, y_AB+y_CB\n",
    "\n",
    "#print('x_AB={}\\ny_AB={}\\nx_CB={}\\ny_CB={}\\nx={}\\ny={}\\n'.format(x_AB, y_AB, x_CB, y_CB, x, y))\n",
    "\n",
    "f_net = sqrt(x**2 + y**2)\n",
    "d_net = atan(y/x) + pi\n",
    "\n",
    "#print('f={}\\nd={}'.format(f_net, mpmath.degrees(d_net.evalf())))\n",
    "\n",
    "f_net.evalf(n=2)"
   ]
  },
  {
   "cell_type": "code",
   "execution_count": 10,
   "metadata": {
    "collapsed": false
   },
   "outputs": [
    {
     "data": {
      "image/png": "[encoded data removed]",
      "text/latex": [
       "$$3.4$$"
      ],
      "text/plain": [
       "3.4"
      ]
     },
     "execution_count": 10,
     "metadata": {},
     "output_type": "execute_result"
    }
   ],
   "source": [
    "d_net.evalf(n=2) # In radians"
   ]
  },
  {
   "cell_type": "code",
   "execution_count": null,
   "metadata": {
    "collapsed": true
   },
   "outputs": [],
   "source": []
  }
 ],
 "metadata": {
  "anaconda-cloud": {},
  "kernelspec": {
   "display_name": "Python [default]",
   "language": "python",
   "name": "python3"
  },
  "language_info": {
   "codemirror_mode": {
    "name": "ipython",
    "version": 3
   },
   "file_extension": ".py",
   "mimetype": "text/x-python",
   "name": "python",
   "nbconvert_exporter": "python",
   "pygments_lexer": "ipython3",
   "version": "3.5.2"
  }
 },
 "nbformat": 4,
 "nbformat_minor": 2
}
