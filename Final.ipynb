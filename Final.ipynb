{
 "cells": [
  {
   "cell_type": "code",
   "execution_count": 1,
   "metadata": {
    "collapsed": true
   },
   "outputs": [],
   "source": [
    "# Import\n",
    "from sympy import *\n",
    "from sympy.abc import *\n",
    "from sympy.physics.units import *\n",
    "import mpmath\n",
    "# Init\n",
    "init_printing()"
   ]
  },
  {
   "cell_type": "markdown",
   "metadata": {},
   "source": [
    "## 1.\n",
    "A car's cooling system can contain 20 kg of water or 16 kg of methonal.\n",
    "\n",
    "### a.\n",
    "\n",
    "Q) What tempature change of water if the engine runs until 836,000 J of heat added?\n",
    "\n",
    "A)"
   ]
  },
  {
   "cell_type": "code",
   "execution_count": 13,
   "metadata": {
    "collapsed": false
   },
   "outputs": [
    {
     "data": {
      "image/png": "[encoded data removed]",
      "text/latex": [
       "$$\\left [ 10\\right ]$$"
      ],
      "text/plain": [
       "[10]"
      ]
     },
     "execution_count": 13,
     "metadata": {},
     "output_type": "execute_result"
    }
   ],
   "source": [
    "solve(Eq(836000 * joules, 20 * kilograms * (4180 * joule/kilograms * t)), t)"
   ]
  },
  {
   "cell_type": "markdown",
   "metadata": {},
   "source": [
    "### b.\n",
    "\n",
    "Q) What is the temperature change of methanol if the engine runs until 836,000 J?  Why?\n",
    "\n",
    "A)"
   ]
  },
  {
   "cell_type": "code",
   "execution_count": 18,
   "metadata": {
    "collapsed": false
   },
   "outputs": [
    {
     "data": {
      "image/png": "[encoded data removed]",
      "text/latex": [
       "$$\\left [ 17.0612244897959\\right ]$$"
      ],
      "text/plain": [
       "[17.0612244897959]"
      ]
     },
     "execution_count": 18,
     "metadata": {},
     "output_type": "execute_result"
    }
   ],
   "source": [
    "solve(Eq(836000*J, 20*kg * (2450.*J/kg * t)), t)"
   ]
  },
  {
   "cell_type": "markdown",
   "metadata": {},
   "source": [
    "Why?  Because that's what the formula says..."
   ]
  },
  {
   "cell_type": "markdown",
   "metadata": {},
   "source": [
    "### c.\n",
    "\n",
    "Q) Which is better engine coolant, water or methanol?  Why?\n",
    "\n",
    "A)  \n",
    "I'm fairly certain this depends on the application.  Water has a higher freezing point which can cause problems in low temperature conditions (such as for a car driving in the winter).\n",
    "\n",
    "However, for the sake of this test, water is better cause it's able to absorb more heat."
   ]
  },
  {
   "cell_type": "markdown",
   "metadata": {},
   "source": [
    "## 2.\n",
    "\n",
    "Q) A 0.200 kg sample of water at 60°C is heated to steam at 140°C.  How much heat is absorbed?\n",
    "\n",
    "A)"
   ]
  },
  {
   "cell_type": "code",
   "execution_count": 21,
   "metadata": {
    "collapsed": false
   },
   "outputs": [
    {
     "data": {
      "image/png": "[encoded data removed]",
      "text/latex": [
       "$$\\left [ \\frac{7808000.0 m^{2}}{s^{2}} kg\\right ]$$"
      ],
      "text/plain": [
       "⎡              2⎤\n",
       "⎢7808000.0⋅kg⋅m ⎥\n",
       "⎢───────────────⎥\n",
       "⎢        2      ⎥\n",
       "⎣       s       ⎦"
      ]
     },
     "execution_count": 21,
     "metadata": {},
     "output_type": "execute_result"
    }
   ],
   "source": [
    "#        Q = m * (C_liquid * ΔT + H_vaporization + C_gas * ΔT)\n",
    "\n",
    "solve(Eq(q, 20*kg * (4180*J/kg * 20 + 2.26e5*J/kg + 2020*J/kg * 40)), q)"
   ]
  },
  {
   "cell_type": "markdown",
   "metadata": {},
   "source": [
    "## 3.\n",
    "\n",
    "Q) A 0.5 kg sample of water is at 80°C is mixed with a 0.3 kg sample of water at 10°C.  What is the final temperature of the mixture?\n",
    "\n",
    "A)"
   ]
  },
  {
   "cell_type": "code",
   "execution_count": 141,
   "metadata": {
    "collapsed": false
   },
   "outputs": [
    {
     "data": {
      "image/png": "[encoded data removed]",
      "text/latex": [
       "$$\\left [ 53.75\\right ]$$"
      ],
      "text/plain": [
       "[53.75]"
      ]
     },
     "execution_count": 141,
     "metadata": {},
     "output_type": "execute_result"
    }
   ],
   "source": [
    "# m_1 * C_1 * (Tf -Ti) = m_2 * C_2 * (Ti – Tf)\n",
    "# m_1 * (Tf - Ti) = m_2 * (Ti – Tf)\n",
    "\n",
    "solve(Eq(0.5*kg * (80 - x), 0.3*kg * (x - 10)), x)"
   ]
  },
  {
   "cell_type": "markdown",
   "metadata": {},
   "source": [
    "## 4.\n",
    "\n",
    "Q) A lead brick, 5 cm x 10 cm x 20 cm, rests on the ground on it's largest face.  Lead has a density of 11.8 g/cm$^3$.  What pressure does the brick exert on the ground?\n",
    "\n",
    "A)"
   ]
  },
  {
   "cell_type": "code",
   "execution_count": 56,
   "metadata": {
    "collapsed": false
   },
   "outputs": [
    {
     "data": {
      "image/png": "[encoded data removed]",
      "text/latex": [
       "$$\\frac{590.0 kg}{m^{2}}$$"
      ],
      "text/plain": [
       "590.0⋅kg\n",
       "────────\n",
       "    2   \n",
       "   m    "
      ]
     },
     "execution_count": 56,
     "metadata": {},
     "output_type": "execute_result"
    }
   ],
   "source": [
    "# P = F/A\n",
    "(11.8*g/cm**3 * 5*cm * 10*cm * 20*cm)/(10*cm * 20*cm)"
   ]
  },
  {
   "cell_type": "markdown",
   "metadata": {},
   "source": [
    "## 5.\n",
    "\n",
    "Q) A piece of aluminum is 10 meters long at 22°C.  If it is heated to 90°C, how long will it be?\n",
    "\n",
    "A)"
   ]
  },
  {
   "cell_type": "code",
   "execution_count": 55,
   "metadata": {
    "collapsed": false
   },
   "outputs": [
    {
     "data": {
      "image/png": "[encoded data removed]",
      "text/latex": [
       "$$10.017 m$$"
      ],
      "text/plain": [
       "10.017⋅m"
      ]
     },
     "execution_count": 55,
     "metadata": {},
     "output_type": "execute_result"
    }
   ],
   "source": [
    "# L_f = L_i + α * L_i * ΔT\n",
    "10*m + (25e-6/C * 10*m * (90*C - 22*C))"
   ]
  },
  {
   "cell_type": "markdown",
   "metadata": {},
   "source": [
    "## 6.\n",
    "\n",
    "Q) A copper cube with a volume of 0.50 m$^3$ at 300 K is heated to 570 K.  What is the volume at 570 K?\n",
    "\n",
    "A)"
   ]
  },
  {
   "cell_type": "code",
   "execution_count": 54,
   "metadata": {
    "collapsed": false
   },
   "outputs": [
    {
     "data": {
      "image/png": "[encoded data removed]",
      "text/latex": [
       "$$0.50648 m^{3}$$"
      ],
      "text/plain": [
       "         3\n",
       "0.50648⋅m "
      ]
     },
     "execution_count": 54,
     "metadata": {},
     "output_type": "execute_result"
    }
   ],
   "source": [
    "# L_f = L_i + α * L_i * ΔT\n",
    "0.50*m**3 + (48e-6/C * 0.50*m**3 * (570*C - 300*C))"
   ]
  },
  {
   "cell_type": "markdown",
   "metadata": {},
   "source": [
    "## 7.\n",
    "A cyclist weighing 280 N on a bicycle sit compresses a spring.  The spring constant is $2.2 \\times 10^4$  N/M.  \n",
    "\n",
    "### a. \n",
    "How much is the spring compressed?"
   ]
  },
  {
   "cell_type": "code",
   "execution_count": 53,
   "metadata": {
    "collapsed": false
   },
   "outputs": [
    {
     "data": {
      "image/png": "[encoded data removed]",
      "text/latex": [
       "$$\\left [ 0.0127272727272727 m\\right ]$$"
      ],
      "text/plain": [
       "[0.0127272727272727⋅m]"
      ]
     },
     "execution_count": 53,
     "metadata": {},
     "output_type": "execute_result"
    }
   ],
   "source": [
    "# F = k * x\n",
    "solve(Eq(280*N, 2.2e4*N/m * x), x)"
   ]
  },
  {
   "cell_type": "markdown",
   "metadata": {},
   "source": [
    "### b.\n",
    "How much elastic potential energy is on the spring?"
   ]
  },
  {
   "cell_type": "code",
   "execution_count": null,
   "metadata": {
    "collapsed": true
   },
   "outputs": [],
   "source": [
    "# 1/2 kx something?  I don't see it on the formula sheet"
   ]
  },
  {
   "cell_type": "markdown",
   "metadata": {},
   "source": [
    "## 8.\n",
    "\n",
    "Q) A wave with the frequency of 12,000 Hz has what period?\n",
    "\n",
    "A)"
   ]
  },
  {
   "cell_type": "code",
   "execution_count": 58,
   "metadata": {
    "collapsed": false
   },
   "outputs": [
    {
     "data": {
      "image/png": "[encoded data removed]",
      "text/latex": [
       "$$\\left [ \\frac{s}{12000}\\right ]$$"
      ],
      "text/plain": [
       "⎡  s  ⎤\n",
       "⎢─────⎥\n",
       "⎣12000⎦"
      ]
     },
     "execution_count": 58,
     "metadata": {},
     "output_type": "execute_result"
    }
   ],
   "source": [
    "# f = 1/T\n",
    "solve(Eq(12000*Hz, 1/t), t)"
   ]
  },
  {
   "cell_type": "markdown",
   "metadata": {},
   "source": [
    "## 9.\n",
    "\n",
    "Water waves in a lake travel 3.4 m in 1.8 s.  The period of oscillation is 1.1 s.\n",
    "\n",
    "### a.\n",
    "Q) What is the speed of the water waves?\n",
    "\n",
    "A)"
   ]
  },
  {
   "cell_type": "code",
   "execution_count": 59,
   "metadata": {
    "collapsed": false
   },
   "outputs": [
    {
     "data": {
      "image/png": "[encoded data removed]",
      "text/latex": [
       "$$1.88888888888889 m s$$"
      ],
      "text/plain": [
       "1.88888888888889⋅m⋅s"
      ]
     },
     "execution_count": 59,
     "metadata": {},
     "output_type": "execute_result"
    }
   ],
   "source": [
    "# v = d / t\n",
    "3.4*m / 1.8*s"
   ]
  },
  {
   "cell_type": "markdown",
   "metadata": {},
   "source": [
    "### b.\n",
    "\n",
    "Q) What is their wavelength?\n",
    "\n",
    "A) "
   ]
  },
  {
   "cell_type": "code",
   "execution_count": 62,
   "metadata": {
    "collapsed": false
   },
   "outputs": [
    {
     "data": {
      "image/png": "[encoded data removed]",
      "text/latex": [
       "$$2.07777777777778 m$$"
      ],
      "text/plain": [
       "2.07777777777778⋅m"
      ]
     },
     "execution_count": 62,
     "metadata": {},
     "output_type": "execute_result"
    }
   ],
   "source": [
    "# v = λ * f\n",
    "# λ = (d / t) / (1 / T)\n",
    "\n",
    "(3.4*m / 1.8*s) / (1/1.1*s)"
   ]
  },
  {
   "cell_type": "markdown",
   "metadata": {},
   "source": [
    "## 10.\n",
    "\n",
    "Q) A ray of light in air enters a quartz plate at a 20° incident angle.  What is the angle of refracted ray in the quartz?\n",
    "\n",
    "A)"
   ]
  },
  {
   "cell_type": "code",
   "execution_count": 77,
   "metadata": {
    "collapsed": false
   },
   "outputs": [
    {
     "data": {
      "image/png": "[encoded data removed]",
      "text/latex": [
       "$$\\left [ 12.8357926328176, \\quad 167.164207367182\\right ]$$"
      ],
      "text/plain": [
       "[12.8357926328176, 167.164207367182]"
      ]
     },
     "execution_count": 77,
     "metadata": {},
     "output_type": "execute_result"
    }
   ],
   "source": [
    "# n_1 sin Θ_1 = n_2 sin Θ_2\n",
    "\n",
    "solve(Eq(1.0003 * sin(20 * degrees), 1.54 * sin(x * degrees)), x)\n",
    "\n",
    "# PS: the sin function was giving me some difficulty"
   ]
  },
  {
   "cell_type": "markdown",
   "metadata": {},
   "source": [
    "## 11.\n",
    "\n",
    "Q) On a pleasantly warm day, a hiker shouts across a canyon and hears her echo 2.95 s later.  How wide is the canyon?\n",
    "\n",
    "A)"
   ]
  },
  {
   "cell_type": "code",
   "execution_count": 80,
   "metadata": {
    "collapsed": false
   },
   "outputs": [
    {
     "data": {
      "image/png": "[encoded data removed]",
      "text/latex": [
       "$$488.225 m$$"
      ],
      "text/plain": [
       "488.225⋅m"
      ]
     },
     "execution_count": 80,
     "metadata": {},
     "output_type": "execute_result"
    }
   ],
   "source": [
    "(331*m/s * 2.95*s)/2"
   ]
  },
  {
   "cell_type": "markdown",
   "metadata": {},
   "source": [
    "## 12.\n",
    "\n",
    "Q) If you stand 3 m directly in the mirror hanging on a wall, where does your image appear to be?\n",
    "\n",
    "A) 6 meters away"
   ]
  },
  {
   "cell_type": "markdown",
   "metadata": {},
   "source": [
    "## 13.\n",
    "\n",
    "Q) You want to buy a mirror for your dressing room.  If you are 1.8 meters tall, how tall most your mirror be?\n",
    "\n",
    "A) This is rather vague... it depends what size mirror you want?"
   ]
  },
  {
   "cell_type": "markdown",
   "metadata": {},
   "source": [
    "## 14.\n",
    "\n",
    "Q) A laser shines on a different grating with slits separated by $2 \\times 10^{-5}$ m.  A first-order bright band appears 12.5 mm from the central bright band on a screen 0.60 m from the slits.  What is the wavelength of the laser?\n",
    "\n",
    "A) "
   ]
  },
  {
   "cell_type": "code",
   "execution_count": null,
   "metadata": {
    "collapsed": true
   },
   "outputs": [],
   "source": []
  },
  {
   "cell_type": "markdown",
   "metadata": {},
   "source": [
    "## 15.\n",
    "\n",
    "Q) Two charges, one $+6 \\times 10^{-4}$ C and one $+8 \\times 10^{-2}$ C, are 0.2 m apart.  What is the force between the charges?\n",
    "\n",
    "A)"
   ]
  },
  {
   "cell_type": "code",
   "execution_count": 87,
   "metadata": {
    "collapsed": false
   },
   "outputs": [
    {
     "data": {
      "image/png": "[encoded data removed]",
      "text/latex": [
       "$$\\frac{10800000.0 kg}{s^{2}} m$$"
      ],
      "text/plain": [
       "10800000.0⋅kg⋅m\n",
       "───────────────\n",
       "        2      \n",
       "       s       "
      ]
     },
     "execution_count": 87,
     "metadata": {},
     "output_type": "execute_result"
    }
   ],
   "source": [
    "# F = k * (q_a * q_b)/d^2\n",
    "\n",
    "(9.0e9 * N * m**2/C**2 * 6e-4*C * 8e-2*C)/(0.2*m)**2"
   ]
  },
  {
   "cell_type": "markdown",
   "metadata": {},
   "source": [
    "## 16.\n",
    "The force between two charged objects is 600 N.\n",
    "\n",
    "### a.\n",
    "Q) What is the force if one charge is doubled?\n",
    "\n",
    "A) The force is doubled"
   ]
  },
  {
   "cell_type": "markdown",
   "metadata": {},
   "source": [
    "### b.\n",
    "Q) What is the force if the distance between the original charges is cut in half?\n",
    "\n",
    "A) The force is quadrupled"
   ]
  },
  {
   "cell_type": "markdown",
   "metadata": {},
   "source": [
    "## 17.\n",
    "\n",
    "Q) A negative charge of $5 \\times 10^{-4}$ C is placed in an electric field of 40 N/C.  What is the force acting on the charge?\n",
    "\n",
    "A)"
   ]
  },
  {
   "cell_type": "code",
   "execution_count": 100,
   "metadata": {
    "collapsed": false
   },
   "outputs": [
    {
     "data": {
      "image/png": "[encoded data removed]",
      "text/latex": [
       "$$- \\frac{0.02 kg}{s^{2}} m$$"
      ],
      "text/plain": [
       "-0.02⋅kg⋅m \n",
       "───────────\n",
       "      2    \n",
       "     s     "
      ]
     },
     "execution_count": 100,
     "metadata": {},
     "output_type": "execute_result"
    }
   ],
   "source": [
    "# F = qE\n",
    "-5e-4*C * 40*N/C "
   ]
  },
  {
   "cell_type": "markdown",
   "metadata": {},
   "source": [
    "## 18.\n",
    "\n",
    "A 100-watt lamp is plugged into a 110-volt circuit.\n",
    "\n",
    "### a.\n",
    "\n",
    "Q)  How much current is flowing through the lamp?"
   ]
  },
  {
   "cell_type": "code",
   "execution_count": 104,
   "metadata": {
    "collapsed": false
   },
   "outputs": [
    {
     "data": {
      "image/png": "[encoded data removed]",
      "text/latex": [
       "$$\\frac{0.909090909090909 kg^{2} m^{4}}{A s^{6}}$$"
      ],
      "text/plain": [
       "                    2  4\n",
       "0.909090909090909⋅kg ⋅m \n",
       "────────────────────────\n",
       "             6          \n",
       "          A⋅s           "
      ]
     },
     "execution_count": 104,
     "metadata": {},
     "output_type": "execute_result"
    }
   ],
   "source": [
    "# P = I * V\n",
    "# I = P / V\n",
    "100.*W / 110*V"
   ]
  },
  {
   "cell_type": "markdown",
   "metadata": {},
   "source": [
    "### b.\n",
    "Q) How much energy does it use if it is left on for 6 hours?\n",
    "\n",
    "A) "
   ]
  },
  {
   "cell_type": "code",
   "execution_count": 105,
   "metadata": {
    "collapsed": false
   },
   "outputs": [
    {
     "data": {
      "image/png": "[encoded data removed]",
      "text/latex": [
       "$$\\frac{2160000 m^{2}}{s^{2}} kg$$"
      ],
      "text/plain": [
       "            2\n",
       "2160000⋅kg⋅m \n",
       "─────────────\n",
       "       2     \n",
       "      s      "
      ]
     },
     "execution_count": 105,
     "metadata": {},
     "output_type": "execute_result"
    }
   ],
   "source": [
    "# E = P / t\n",
    "100*W * 6*hour"
   ]
  },
  {
   "cell_type": "markdown",
   "metadata": {},
   "source": [
    "## 19.\n",
    "\n",
    "You install a 500 W stereo in your car, and the car has a 12 V battery.\n",
    "\n",
    "### a.\n",
    "\n",
    "Q)  How much current will flow through the stereo when it is turned on at full power?\n",
    "\n",
    "A) "
   ]
  },
  {
   "cell_type": "code",
   "execution_count": 107,
   "metadata": {
    "collapsed": false
   },
   "outputs": [
    {
     "data": {
      "image/png": "[encoded data removed]",
      "text/latex": [
       "$$\\frac{41.6666666666667 kg^{2} m^{4}}{A s^{6}}$$"
      ],
      "text/plain": [
       "                   2  4\n",
       "41.6666666666667⋅kg ⋅m \n",
       "───────────────────────\n",
       "             6         \n",
       "          A⋅s          "
      ]
     },
     "execution_count": 107,
     "metadata": {},
     "output_type": "execute_result"
    }
   ],
   "source": [
    "# P = I * V\n",
    "# I = P / V\n",
    "500.*W / 12*V"
   ]
  },
  {
   "cell_type": "markdown",
   "metadata": {},
   "source": [
    "### b.\n",
    "Q) What is the minimum fuse size you should use in this circuit?\n",
    "\n",
    "A) "
   ]
  },
  {
   "cell_type": "code",
   "execution_count": null,
   "metadata": {
    "collapsed": true
   },
   "outputs": [],
   "source": []
  },
  {
   "cell_type": "markdown",
   "metadata": {},
   "source": [
    "## 20.\n",
    "\n",
    "A 150 $\\Omega$ resistor is connected in series with two parallel resistors, one 240 $\\Omega$ and one 360 $\\Omega$.\n",
    "\n",
    "### a.\n",
    "\n",
    "Q)  What is the equivalent resistance of the circuit?\n",
    "\n",
    "A)"
   ]
  },
  {
   "cell_type": "code",
   "execution_count": 116,
   "metadata": {
    "collapsed": false
   },
   "outputs": [
    {
     "data": {
      "image/png": "[encoded data removed]",
      "text/latex": [
       "$$\\frac{294.0 kg m^{2}}{A^{2} s^{3}}$$"
      ],
      "text/plain": [
       "          2\n",
       "294.0⋅kg⋅m \n",
       "───────────\n",
       "    2  3   \n",
       "   A ⋅s    "
      ]
     },
     "execution_count": 116,
     "metadata": {},
     "output_type": "execute_result"
    }
   ],
   "source": [
    "# R_1 + (1/(1/R_2 + 1/R_3))\n",
    "\n",
    "150.*ohm + 1/(1/(240*ohm) + 1/(360*ohm))"
   ]
  },
  {
   "cell_type": "markdown",
   "metadata": {},
   "source": [
    "### b.\n",
    "\n",
    "Q)  If you connect the circuit to a 9 V battery, how much current will flow through the 150 $\\Omega$ resistor?\n",
    "\n",
    "A)  "
   ]
  },
  {
   "cell_type": "code",
   "execution_count": 119,
   "metadata": {
    "collapsed": false
   },
   "outputs": [
    {
     "data": {
      "image/png": "[encoded data removed]",
      "text/latex": [
       "$$0.0306122448979592 A$$"
      ],
      "text/plain": [
       "0.0306122448979592⋅A"
      ]
     },
     "execution_count": 119,
     "metadata": {},
     "output_type": "execute_result"
    }
   ],
   "source": [
    "# V = I * R\n",
    "# I = V / R\n",
    "\n",
    "9.*V/ (150*ohm + 1/(1/(240*ohm) + 1/(360*ohm)))"
   ]
  },
  {
   "cell_type": "markdown",
   "metadata": {},
   "source": [
    "### c.\n",
    "\n",
    "Q)  With the 9 V battery still connected, what voltage would be measured across the 150 $\\Omega$ resistor?\n",
    "\n",
    "A)  "
   ]
  },
  {
   "cell_type": "code",
   "execution_count": null,
   "metadata": {
    "collapsed": true
   },
   "outputs": [],
   "source": []
  },
  {
   "cell_type": "markdown",
   "metadata": {},
   "source": [
    "## 21.\n",
    "\n",
    "The primary coil of a transformer has 500 turns and is connected to a 120 V source.\n",
    "\n",
    "### a.\n",
    "\n",
    "Q)  How many turns are needed on the secondary to produce 600 V?\n",
    "\n",
    "A) "
   ]
  },
  {
   "cell_type": "code",
   "execution_count": 126,
   "metadata": {
    "collapsed": false
   },
   "outputs": [
    {
     "data": {
      "image/png": "[encoded data removed]",
      "text/latex": [
       "$$\\left [ 2500.0\\right ]$$"
      ],
      "text/plain": [
       "[2500.0]"
      ]
     },
     "execution_count": 126,
     "metadata": {},
     "output_type": "execute_result"
    }
   ],
   "source": [
    "# V_1/V_2 =  * Turns_2/Turns_1\n",
    "solve(Eq(120 / 600, 500 / x), x)"
   ]
  },
  {
   "cell_type": "markdown",
   "metadata": {},
   "source": [
    "### b.\n",
    "Q)  If 10 A flows through the primary, how much current will flow through the secondary?\n",
    "\n",
    "A)  "
   ]
  },
  {
   "cell_type": "code",
   "execution_count": 129,
   "metadata": {
    "collapsed": false
   },
   "outputs": [
    {
     "data": {
      "image/png": "[encoded data removed]",
      "text/latex": [
       "$$\\left [ 2.0 A\\right ]$$"
      ],
      "text/plain": [
       "[2.0⋅A]"
      ]
     },
     "execution_count": 129,
     "metadata": {},
     "output_type": "execute_result"
    }
   ],
   "source": [
    "# V_1 * I_1 = V_2 * I_2\n",
    "solve(Eq(120*V * 10*ampere, 600.*V * x), x)"
   ]
  },
  {
   "cell_type": "code",
   "execution_count": null,
   "metadata": {
    "collapsed": true
   },
   "outputs": [],
   "source": []
  }
 ],
 "metadata": {
  "anaconda-cloud": {},
  "kernelspec": {
   "display_name": "Python [default]",
   "language": "python",
   "name": "python3"
  },
  "language_info": {
   "codemirror_mode": {
    "name": "ipython",
    "version": 3
   },
   "file_extension": ".py",
   "mimetype": "text/x-python",
   "name": "python",
   "nbconvert_exporter": "python",
   "pygments_lexer": "ipython3",
   "version": "3.5.2"
  }
 },
 "nbformat": 4,
 "nbformat_minor": 2
}
