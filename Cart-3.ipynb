{
 "cells": [
  {
   "cell_type": "markdown",
   "metadata": {
    "deletable": true,
    "editable": true,
    "nbpresent": {
     "id": "46d8b1f0-ef45-450c-aa87-73f1aae60384"
    }
   },
   "source": [
    "# Aaron's Homework"
   ]
  },
  {
   "cell_type": "markdown",
   "metadata": {
    "deletable": true,
    "editable": true,
    "nbpresent": {
     "id": "9c65a1a9-1b9a-4da4-9602-b4286b76b404"
    }
   },
   "source": [
    "* <strong>Ch 24:</strong> 34 38 40 50 73 77 83"
   ]
  },
  {
   "cell_type": "code",
   "execution_count": 1,
   "metadata": {
    "collapsed": false,
    "deletable": true,
    "editable": true
   },
   "outputs": [],
   "source": [
    "# Import\n",
    "import sympy\n",
    "from sympy import *\n",
    "from sympy.physics.units import *\n",
    "import mpmath"
   ]
  },
  {
   "cell_type": "code",
   "execution_count": 3,
   "metadata": {
    "collapsed": false,
    "deletable": true,
    "editable": true
   },
   "outputs": [],
   "source": [
    "# Init\n",
    "init_printing()\n",
    "\n",
    "F, I, l, B, theta = symbols('F I l B theta')"
   ]
  },
  {
   "cell_type": "markdown",
   "metadata": {
    "deletable": true,
    "editable": true
   },
   "source": [
    "## Chapter 24\n",
    "\n",
    "34 38 40 50 73 77 83"
   ]
  },
  {
   "cell_type": "markdown",
   "metadata": {},
   "source": [
    "Formulas:\n",
    "\n",
    "$\\begin{align*}\n",
    "(\\text{magnitude of force}) &= (\\text{current}) \\times (\\text{length of wire}) \\times (\\text{magnetic field}) \\times (\\sin(\\text{angle between current and magnetic field}))\\\\\n",
    "F &= I \\times l \\times B \\times \\sin(\\theta)\n",
    "\\end{align*}$"
   ]
  },
  {
   "cell_type": "markdown",
   "metadata": {
    "deletable": true,
    "editable": true,
    "nbpresent": {
     "id": "6e9b4a4f-38f8-42c7-92f6-3ee55668ed67"
    }
   },
   "source": [
    "### 34\n",
    "Q) Describe how a temporary magnet differs from\n",
    "a permanent magnet.\n",
    "\n",
    "A) Temporary magnets get their 'Magnetism' from the electrons running through them, so when the electrons stop moving through them, they stop being magnets.  Permanent magnets get their 'Magnetism' from "
   ]
  },
  {
   "cell_type": "markdown",
   "metadata": {
    "editable": true
   },
   "source": [
    "### 38\n",
    "Q) If you broke a magnet in two, would you have isolated north and south poles? Explain.\n",
    "\n",
    "A) Magnets are essentially made up of many many tiny magnets that are all lined up in the same.  So, when you cut it in half you don't end up with north and a south, you end up with two magnets made up of half as many tiny magnets."
   ]
  },
  {
   "cell_type": "markdown",
   "metadata": {
    "editable": true
   },
   "source": [
    "### 40\n",
    "Q) If a current-carrying wire is bent into a loop, why is the magnetic field inside the loop stronger than the magnetic field outside?\n",
    "\n",
    "A) "
   ]
  },
  {
   "cell_type": "markdown",
   "metadata": {
    "editable": true
   },
   "source": [
    "### 50\n",
    "Q) Suppose you are lost in the woods but have a compass with you. Unfortunately, the red paint marking the north pole of the compass needle has worn off. You have a flashlight with a battery and a length of wire. How could you identify the north pole of the compass?\n",
    "\n",
    "A) "
   ]
  },
  {
   "cell_type": "markdown",
   "metadata": {
    "editable": true
   },
   "source": [
    "### 73\n",
    "Q) A wire that is 0.50 m long and carrying a current of\n",
    "8.0 A is at right angles to a uniform magnetic field.\n",
    "The force on the wire is 0.40 N. What is the strength\n",
    "of the magnetic field? \n",
    "\n",
    "A) "
   ]
  },
  {
   "cell_type": "code",
   "execution_count": 7,
   "metadata": {
    "collapsed": false
   },
   "outputs": [
    {
     "data": {
      "image/png": "[encoded data removed]",
      "text/latex": [
       "$$\\left [ \\frac{0.1 kg}{A s^{2}}\\right ]$$"
      ],
      "text/plain": [
       "⎡0.1⋅kg⎤\n",
       "⎢──────⎥\n",
       "⎢    2 ⎥\n",
       "⎣ A⋅s  ⎦"
      ]
     },
     "execution_count": 7,
     "metadata": {},
     "output_type": "execute_result"
    }
   ],
   "source": [
    "solve(Eq(0.40 * newtons, (8.0 * ampere) * (0.50 * meter) * B), B)"
   ]
  },
  {
   "cell_type": "markdown",
   "metadata": {
    "editable": true
   },
   "source": [
    "### 77\n",
    "Q) A wire that is 625 m long is perpendicular to a\n",
    "0.40-T magnetic field. A 1.8-N force acts on the\n",
    "wire. What current is in the wire? \n",
    "\n",
    "A) "
   ]
  },
  {
   "cell_type": "code",
   "execution_count": 5,
   "metadata": {
    "collapsed": false
   },
   "outputs": [
    {
     "data": {
      "image/png": "[encoded data removed]",
      "text/latex": [
       "$$\\left [ 0.0072 A\\right ]$$"
      ],
      "text/plain": [
       "[0.0072⋅A]"
      ]
     },
     "execution_count": 5,
     "metadata": {},
     "output_type": "execute_result"
    }
   ],
   "source": [
    "solve(Eq(1.8 * newtons, I * (625 * meter) * (0.40 * teslas)), I)"
   ]
  },
  {
   "cell_type": "markdown",
   "metadata": {
    "editable": true
   },
   "source": [
    "### 83\n",
    "Q) A beam of electrons moves at right angles to a\n",
    "magnetic field of $6.0 \\times 10^{-2}$ T. The electrons have\n",
    "a velocity of $2.5 \\times 10^6$ m/s. What is the magnitude\n",
    "of the force on each electron?\n",
    "\n",
    "\n",
    "A) "
   ]
  },
  {
   "cell_type": "code",
   "execution_count": 8,
   "metadata": {
    "collapsed": false
   },
   "outputs": [
    {
     "data": {
      "image/png": "[encoded data removed]",
      "text/latex": [
       "$$\\left [ \\frac{kg m}{s^{2}} 2.40326493 \\cdot 10^{-15}\\right ]$$"
      ],
      "text/plain": [
       "⎡2.40326493e-15⋅kg⋅m⎤\n",
       "⎢───────────────────⎥\n",
       "⎢          2        ⎥\n",
       "⎣         s         ⎦"
      ]
     },
     "execution_count": 8,
     "metadata": {},
     "output_type": "execute_result"
    }
   ],
   "source": [
    "solve(Eq(F, 1.60217662E-19 * coulombs * 2.5E6 * meters/second * 0.6E-2 * teslas))"
   ]
  },
  {
   "cell_type": "code",
   "execution_count": null,
   "metadata": {
    "collapsed": true
   },
   "outputs": [],
   "source": []
  }
 ],
 "metadata": {
  "anaconda-cloud": {},
  "kernelspec": {
   "display_name": "Python [default]",
   "language": "python",
   "name": "python3"
  },
  "language_info": {
   "codemirror_mode": {
    "name": "ipython",
    "version": 3
   },
   "file_extension": ".py",
   "mimetype": "text/x-python",
   "name": "python",
   "nbconvert_exporter": "python",
   "pygments_lexer": "ipython3",
   "version": "3.5.2"
  }
 },
 "nbformat": 4,
 "nbformat_minor": 2
}
